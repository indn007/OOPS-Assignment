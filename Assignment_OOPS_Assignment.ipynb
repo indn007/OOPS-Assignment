{
  "nbformat": 4,
  "nbformat_minor": 0,
  "metadata": {
    "colab": {
      "provenance": []
    },
    "kernelspec": {
      "name": "python3",
      "display_name": "Python 3"
    },
    "language_info": {
      "name": "python"
    }
  },
  "cells": [
    {
      "cell_type": "markdown",
      "source": [
        "# **Python OOPs**"
      ],
      "metadata": {
        "id": "EQRgtgdMn1iS"
      }
    },
    {
      "cell_type": "markdown",
      "source": [
        "### **1. What is Object-Oriented Programming (OOP)?**"
      ],
      "metadata": {
        "id": "b6TK4kuWoC0f"
      }
    },
    {
      "cell_type": "markdown",
      "source": [
        "**Ans:** **Object-Oriented Programming (OOP)** is a programming paradigm based on the concept of \"objects\", which can contain data and code. The data is in the form of fields (often called attributes or properties), and the code is in the form of methods (functions associated with the object)."
      ],
      "metadata": {
        "id": "wg52Ybn0r8gY"
      }
    },
    {
      "cell_type": "markdown",
      "source": [
        "### **2. What is a class in OOP?**"
      ],
      "metadata": {
        "id": "QA4vmxcnoLyZ"
      }
    },
    {
      "cell_type": "markdown",
      "source": [
        "**Ans:** A **class** in Object-Oriented Programming (OOP) is a blueprint or template for creating objects. It defines what data (attributes) and what actions (methods) an object of that class will have."
      ],
      "metadata": {
        "id": "1RgFNYtbvFFP"
      }
    },
    {
      "cell_type": "markdown",
      "source": [
        "### **3. What is an object in OOP?**"
      ],
      "metadata": {
        "id": "sVsdvr4goRI1"
      }
    },
    {
      "cell_type": "markdown",
      "source": [
        "**Ans:** An **object** in Object-Oriented Programming (OOP) is an instance of a class. It's a concrete entity created using the class blueprint, and it has its own data (attributes) and behaviors (methods).\n",
        "\n"
      ],
      "metadata": {
        "id": "A4TpK-uNu6QT"
      }
    },
    {
      "cell_type": "markdown",
      "source": [
        "### **4. What is the difference between abstraction and encapsulation?**"
      ],
      "metadata": {
        "id": "dZaeMgqSoWVG"
      }
    },
    {
      "cell_type": "markdown",
      "source": [
        "**Ans:-** **1. Abstraction — \"What to show?\"**\n",
        "\n",
        "Abstraction is the process of hiding complex implementation details and showing only the essential features of an object or system. It helps focus on what an object does, not how it does it.\n",
        "\n",
        "**Goal:**\n",
        "\n",
        "Simplify usage by exposing only relevant functionality. Hiding the internal working of a car engine—you just need to know how to drive it, not how the engine works.\n",
        "\n",
        "**Encapsulation** is the practice of bundling data (attributes) and methods that operate on the data within a class, and restricting direct access to some of the object's components.\n",
        "\n",
        "**Goal:**\n",
        "\n",
        "Protect data from outside interference and misuse. Locking the internal components of a device in a case so users can only interact with the buttons provided."
      ],
      "metadata": {
        "id": "b7xD04r-2EIz"
      }
    },
    {
      "cell_type": "markdown",
      "source": [
        "###**5. What are dunder methods in Python?**"
      ],
      "metadata": {
        "id": "T1QP0DGFoa28"
      }
    },
    {
      "cell_type": "markdown",
      "source": [
        "**Ans:-** Dunder methods, also known as magic methods or special methods, are methods in Python that have **double underscores (__)** before and after their names. They are not meant to be called directly by the user but are triggered implicitly by certain actions. They allow you to define how your objects behave with respect to built-in operators and functions.\n",
        "\n",
        "**Purpose:**\n",
        "\n",
        "Operator Overloading: Dunder methods enable you to define how operators like +, -, *, /, ==, etc., work with your custom objects.\n",
        "Built-in Function Behavior: They let you customize how your objects interact with built-in functions like len(), str(), repr(), etc.\n",
        "Class Customization: Dunder methods give you control over object creation, initialization, deletion, and other lifecycle events.\n",
        "\n",
        "**Examples** **:-**\n",
        "1. __ init __: The constructor, called when an object is created. It initializes the object's attributes.\n",
        "2. __ str __: Defines how the object is represented as a string when using str() or print().\n",
        "3. __ repr __: Provides a more formal, unambiguous string representation of the object, often used for debugging.\n",
        "4. __ add __: Allows you to define how the + operator behaves with your objects.\n",
        "5. __ len __: Enables the use of the len() function with your objects.\n"
      ],
      "metadata": {
        "id": "OTg139cJ2wcI"
      }
    },
    {
      "cell_type": "markdown",
      "source": [
        "###**6. Explain the concept of inheritance in OOP.**"
      ],
      "metadata": {
        "id": "mStYp6IVoh1A"
      }
    },
    {
      "cell_type": "markdown",
      "source": [
        "**Ans:-** **Inheritance** is a fundamental concept in object-oriented programming that allows you to create new classes (called derived classes or subclasses) based on existing classes (called base classes or superclasses). The derived class inherits the attributes and methods of the base class, and can also add its own unique attributes and methods. This promotes code reusability and reduces redundancy.\n",
        "\n",
        "**Key features of Inheritance.**\n",
        "\n",
        "1. **Code Reusability**: You can reuse the code of the base class in the derived class, avoiding the need to write the same code multiple times.\n",
        "2. **Extensibility**: You can extend the functionality of the base class by adding new features to the derived class.\n",
        "3. **Maintainability**: Changes made to the base class are automatically reflected in the derived classes, making it easier to maintain the code."
      ],
      "metadata": {
        "id": "UNZ8tp745Skx"
      }
    },
    {
      "cell_type": "markdown",
      "source": [
        "###**7. What is polymorphism in OOP?**"
      ],
      "metadata": {
        "id": "hbozIyaOonmA"
      }
    },
    {
      "cell_type": "markdown",
      "source": [
        "**Ans:-** **Polymorphism** in Object-Oriented Programming (OOP) in Python refers to the ability of different classes to provide different implementations for the same method or interface. This allows objects of different types to be treated uniformly, enabling dynamic and flexible code.\n",
        "\n",
        "**Key Features:**\n",
        "1. **Method Overriding**: Subclasses can redefine methods from their parent classes to provide specific behavior.\n",
        "\n",
        "2. **Dynamic Method Resolution**: At runtime, Python decides which method implementation to invoke based on the object's type.\n",
        "\n",
        "3. **Common Interface**: Different classes can share the same method name, allowing them to be accessed interchangeably."
      ],
      "metadata": {
        "id": "plZorflW5xk4"
      }
    },
    {
      "cell_type": "markdown",
      "source": [
        "###**8. How is encapsulation achieved in Python?**"
      ],
      "metadata": {
        "id": "RigxRqQCouSG"
      }
    },
    {
      "cell_type": "markdown",
      "source": [
        "**Ans:-** **Encapsulation** in Python is achieved through the use of classes, which allow you to bundle data (attributes) and methods (functions) together while restricting direct access to some of the data to maintain control and prevent unintended interference. Encapsulation helps in protecting the internal state of an object and ensuring proper usage by exposing only what is necessary.\n",
        "\n",
        "**Key Concepts:**\n",
        "1. **Public Members**: These can be accessed freely from outside the class.\n",
        "\n",
        "2. **Protected Members**: Prefixed with a single underscore (_), these suggest that they should not be accessed directly but are still accessible.\n",
        "\n",
        "3. **Private Members**: Prefixed with double underscores (__), these are name-mangled and cannot be accessed directly outside the class."
      ],
      "metadata": {
        "id": "AEGIDViK7Jbw"
      }
    },
    {
      "cell_type": "markdown",
      "source": [
        "###**9. What is a constructor in Python?**"
      ],
      "metadata": {
        "id": "Of4SFV7zoyhb"
      }
    },
    {
      "cell_type": "markdown",
      "source": [
        "**Ans:-** **constructor** is a special method used to initialize an object when it is created. The constructor is defined by the __init__ method within a class. It allows you to set up the initial state of an object by assigning values to its attributes or performing other startup tasks.\n",
        "\n",
        "**How It Works:**\n",
        "The __ init __ method is automatically called when you create a new instance of a class. You can pass arguments to the constructor to customize the initialization of each object."
      ],
      "metadata": {
        "id": "lo-Hfu5w72Sh"
      }
    },
    {
      "cell_type": "markdown",
      "source": [
        "###**10. What are class and static methods in Python?**\n"
      ],
      "metadata": {
        "id": "wstWSK0To20K"
      }
    },
    {
      "cell_type": "markdown",
      "source": [
        "**Ans:-** **Class methods** and **static methods** are special types of methods in a class that provide functionality related to the class rather than individual instances of the class.\n",
        "\n",
        "**Class Method (@classmethod):**\n",
        "1. **Purpose**: Operates on the class itself rather than on instances of the class.\n",
        "\n",
        "2. **How It's Called**: Takes the class (cls) as its first parameter and is called using the class name or an instance.\n",
        "\n",
        "3. **Decorator**: Defined with @classmethod.\n",
        "\n",
        "**Static Method (@staticmethod):**\n",
        "1. **Purpose**: Operates independently of both the class and instances; useful for utility functions that don't depend on the class or instance.\n",
        "\n",
        "2. **How It's Called**: Doesn't take any special parameters like self or cls.\n",
        "\n",
        "3. **Decorator**: Defined with @staticmethod."
      ],
      "metadata": {
        "id": "Z79OHj0W8TIP"
      }
    },
    {
      "cell_type": "markdown",
      "source": [
        "###**11. What is method overloading in Python?**"
      ],
      "metadata": {
        "id": "V6XLvM5lo8SK"
      }
    },
    {
      "cell_type": "markdown",
      "source": [
        "**Ans:-** Method **overloading** refers to defining multiple methods with the same name but different numbers or types of arguments. In some languages (like Java and C++), method overloading is explicitly supported. However, Python does not support method overloading in the traditional sense because Python functions can handle a variable number of arguments using default values or *args and **kwargs.\n",
        "\n"
      ],
      "metadata": {
        "id": "-A47jsDF9get"
      }
    },
    {
      "cell_type": "markdown",
      "source": [
        "###**12. What is method overriding in OOP?**"
      ],
      "metadata": {
        "id": "yI-12WKbpAw2"
      }
    },
    {
      "cell_type": "markdown",
      "source": [
        "**Ans:-** Method **overriding** allows a subclass (child class) to provide its own implementation of a method that is already defined in its superclass (parent class). This ensures that the child class can customize behavior while still inheriting common functionality from the parent class.\n",
        "\n",
        "**Key Characteristics of Method Overriding**\n",
        "1. **Same Method Name**: The overridden method in the child class must have the same name as in the parent class.\n",
        "\n",
        "2. **Inheritance Required**: The child class must inherit from the parent class.\n",
        "\n",
        "3. **Same Parameters**: The method signature (parameters) in the child class should match that of the parent class.\n",
        "\n",
        "4. **Dynamic Method Resolution**: At runtime, Python calls the overridden method in the child class instead of the parent class method."
      ],
      "metadata": {
        "id": "yyimL2v0AmkM"
      }
    },
    {
      "cell_type": "markdown",
      "source": [
        "###**13. What is a property decorator in Python?**\n"
      ],
      "metadata": {
        "id": "L24qXLSqpFeY"
      }
    },
    {
      "cell_type": "markdown",
      "source": [
        "**Ans:-** The @property **decorator** in Python is used to define getter methods in a class, allowing attributes to be accessed like regular properties while encapsulating logic inside methods. It helps in controlling how data is retrieved and modified while keeping the interface clean and intuitive.\n",
        "\n",
        "**Why Use @property?**\n",
        "\n",
        "1. **Encapsulation** -- It lets you control access to attributes while maintaining a simple syntax.\n",
        "2. **Readonly Properties** -- You can allow an attribute to be accessed but not modified.\n",
        "3. **Computed Properties** -- Allows attributes to dynamically compute values instead of storing them.\n",
        "4. **Cleaner Syntax** -- Eliminates the need for explicit getter and setter method calls."
      ],
      "metadata": {
        "id": "eGppbIkkgOGa"
      }
    },
    {
      "cell_type": "markdown",
      "source": [
        "###**14. Why is polymorphism important in OOP?**"
      ],
      "metadata": {
        "id": "MWGCAw1tpLjr"
      }
    },
    {
      "cell_type": "markdown",
      "source": [
        "**Ans:-** **Polymorphism** is essential in Object-Oriented Programming (OOP) because it increases flexibility, scalability, and maintainability in software design. It allows objects of different classes to be treated as objects of a common superclass, making code more dynamic and reusable.\n",
        "\n",
        "**Importance of Polymorphism in OOP**\n",
        "\n",
        "1. **Reusability**:-\n",
        "-- Instead of writing multiple conditional statements (if, elif) to handle different object types, polymorphism enables a single interface to work with different types.\n",
        "\n",
        "-- This reduces code duplication, making it cleaner and more efficient.\n",
        "\n",
        "2. **Improves Maintainability and Scalability**:-\n",
        "\n",
        "-- When new subclasses are added, existing code does not need to change, as the same interface continues to work.\n",
        "\n",
        "-- This is crucial in large projects where adaptability is required.\n",
        "\n",
        "3. **Supports Dynamic Method Invocation**:-\n",
        "\n",
        "-- At runtime, Python automatically determines the appropriate method to execute based on the object's type.\n",
        "\n",
        "-- This dynamic behavior allows greater abstraction and flexibility in programming.\n",
        "\n",
        "4. **Makes Code More Readable and Intuitive**:-\n",
        "\n",
        "-- Instead of writing complex logic to handle variations across subclasses, polymorphism allows a single method name to represent multiple implementations.\n",
        "\n",
        "-- This aligns with real-world concepts—different objects having different behaviors."
      ],
      "metadata": {
        "id": "PRY4rfZdg752"
      }
    },
    {
      "cell_type": "markdown",
      "source": [
        "###**15. What is an abstract class in Python?**"
      ],
      "metadata": {
        "id": "OH9Rf5rTpQw_"
      }
    },
    {
      "cell_type": "markdown",
      "source": [
        "**Ans:-** An abstract class in Python is a blueprint for other classes. It cannot be instantiated directly and often contains abstract methods—methods that must be implemented by subclasses. This ensures that subclasses adhere to a predefined structure.\n",
        "\n",
        "Python provides abstract classes through the abc (Abstract Base Class) module.\n",
        "\n",
        "**Key Features of an Abstract Class:**\n",
        "1. **Cannot be instantiated** -- You cannot create objects from an abstract class.\n",
        "2. **Defines a structure** -- Ensures that subclasses implement certain required methods.\n",
        "3. **Uses ABC module** -- Abstract classes are created using the ABC (Abstract Base Class).\n",
        "4. **Contains abstract methods** -- Methods declared but not implemented in the abstract class."
      ],
      "metadata": {
        "id": "atMDHjj4h0BW"
      }
    },
    {
      "cell_type": "markdown",
      "source": [
        "###**16. What are the advantages of OOP?**"
      ],
      "metadata": {
        "id": "xlvTF8FfpWId"
      }
    },
    {
      "cell_type": "markdown",
      "source": [
        "**Ans:-** Object-Oriented Programming **(OOP)** offers several powerful advantages that make code easier to **design, manage, and scale.**\n",
        "\n",
        "**Advantages of OOP:**\n",
        "\n",
        "**1. Modularity**\n",
        "\n",
        "**(i)** Code is organized into classes and objects, making it easier to manage and reuse.\n",
        "\n",
        "**(ii)** Changes in one class don’t affect others directly.\n",
        "\n",
        "**2. Reusability**\n",
        "\n",
        "**(i)** Use inheritance to reuse existing code.\n",
        "\n",
        "**(ii)** Create a base class with common logic, and extend it in child classes.\n",
        "\n",
        "**3. Encapsulation**\n",
        "\n",
        "**(i)** Bundle data and behavior together.\n",
        "\n",
        "**(ii)** Use access modifiers (like private, protected, etc.) to hide internal details and expose only what’s needed.\n",
        "\n",
        "**(iii)** Helps with data protection and clean APIs.\n",
        "\n",
        "**4. Polymorphism**\n",
        "\n",
        "**(i)** Use the same interface to represent different underlying data types.\n",
        "\n",
        "**(ii)** Write more generic, flexible code (e.g., a function that works on any Shape, not just Circle or Rectangle).\n",
        "\n",
        "**5. Inheritance**\n",
        "\n",
        "**(i)** Create a new class based on an existing one.\n",
        "\n",
        "**(ii)** Promotes code hierarchy and eliminates redundancy.\n",
        "\n",
        "**6. Scalability and Maintainability**\n",
        "\n",
        "**(i)** OOP code is easier to scale as projects grow.\n",
        "\n",
        "**(ii)** Clear structure makes it easier to debug, update, or enhance features.\n",
        "\n",
        "**7. Improved Productivity**\n",
        "\n",
        "**(i)** With reusable components, developers spend less time reinventing the wheel.\n",
        "\n",
        "**(ii)** Well-structured code also improves collaboration in teams.\n",
        "\n"
      ],
      "metadata": {
        "id": "dBiD0VbgifyA"
      }
    },
    {
      "cell_type": "markdown",
      "source": [
        "###**17. What is the difference between a class variable and an instance variable?**"
      ],
      "metadata": {
        "id": "wnYsb0CIpa1e"
      }
    },
    {
      "cell_type": "markdown",
      "source": [
        "**Ans:-** Difference between class variable and an instance variable in Python\n",
        "\n",
        "**Class Variable**\n",
        "\n",
        "**(i)** Belongs to the class itself, not any one object.\n",
        "\n",
        "**(ii)** Shared across all instances of the class.\n",
        "\n",
        "**(iii)** Typically defined outside of any instance methods, directly inside the class body.\n",
        "\n",
        "**Instance Variable**\n",
        "\n",
        "**(i)** Belongs to the object (instance) of a class.\n",
        "\n",
        "**(ii)** Each object has its own copy of instance variables.\n",
        "\n",
        "**(iii)** Typically defined inside methods using self, like self.name = \"Alice\"."
      ],
      "metadata": {
        "id": "Aj4uVek4isiY"
      }
    },
    {
      "cell_type": "markdown",
      "source": [
        "###**18. What is multiple inheritance in Python?**"
      ],
      "metadata": {
        "id": "PA86bsLtpfne"
      }
    },
    {
      "cell_type": "markdown",
      "source": [
        "**Ans:-** In object-oriented programming, **inheritance** lets a class reuse code from another class.\n",
        "\n",
        "**Multiple inheritance** takes this further: it allows a class to inherit from two or more parent classes at the same time.\n",
        "\n",
        "This means the child class (also called a derived class) gets all the attributes and methods of each parent, and it can use or override them as needed."
      ],
      "metadata": {
        "id": "O5rKRmosi7zV"
      }
    },
    {
      "cell_type": "markdown",
      "source": [
        "###**19. Explain the purpose of __ str __ and __ repr __ methods in Python.**"
      ],
      "metadata": {
        "id": "hswHAwQvpkE2"
      }
    },
    {
      "cell_type": "markdown",
      "source": [
        "**Ans:-** In Python, **__ str__ and __ repr__** are special methods ( also called  **“dunder” methods,** for **double underscores**) that control how objects are represented as strings.\n",
        "\n",
        "**__ str __** For Humans (Friendly)\n",
        "\n",
        "**(i)** Used by print() and str()\n",
        "\n",
        "**(ii)** Should return a readable, user-friendly string representation of the object.\n",
        "\n",
        "**(iii)** Purpose: to describe the object in a nice, informal way.\n",
        "\n",
        "\n",
        "**__ repr __**  For Developers (Precise)\n",
        "\n",
        "**(i)** Used by the interpreter and repr()\n",
        "\n",
        "**(ii)** Should return a more detailed or unambiguous string, often good enough to recreate the object.\n",
        "\n",
        "**(iii)** Purpose: to help debug or show a developer what the object really is."
      ],
      "metadata": {
        "id": "TQqDM6v5jND_"
      }
    },
    {
      "cell_type": "markdown",
      "source": [
        "###**20. What is the significance of the ‘super()’ function in Python?**"
      ],
      "metadata": {
        "id": "9O-lxjCrpo1i"
      }
    },
    {
      "cell_type": "markdown",
      "source": [
        "**Ans:-** **super()** is used to access methods from a parent or sibling class in a clean, flexible way—especially useful when you're working with inheritance.\n",
        "It's not just a shortcut—it's a way to build smarter, safer, and more maintainable object-oriented code.\n",
        "\n",
        "**(ii)** It Supports Clean Inheritance. In object-oriented programming, when a class inherits from another, sometimes we want to extend functionality rather than replace it. **super()** lets us do this elegantly.\n",
        "\n",
        "**(iii)** Without **super()**, you’d have to manually call the parent class by name. This works but it’s hard-coded — if you ever change the parent class name or inheritance order, it breaks or becomes confusing.\n",
        "\n",
        "**(iv)** With super()**, Python handles this automatically and flexibly.\n",
        "\n",
        "**(V)** It Works Perfectly With Multiple Inheritance. This is super important **(pun intended again)**. When your class inherits from more than one parent, Python uses something called **Method Resolution Order (MRO)** to figure out which method to run.\n",
        "\n",
        "**(vi)** Using **super()** ensures that all parent classes get initialized or their methods called in the correct order — even if you don’t know how many levels deep the inheritance goes.\n",
        "\n",
        "**It's Essential in Cooperative Inheritance**\n",
        "In Python, classes are often written to work with others in a \"cooperative\" way — meaning they assume you’re using super() to keep the inheritance chain alive.\n",
        "\n",
        "If you don’t use super(), you might accidentally break the chain, and some important methods won’t run.\n",
        "\n",
        "The significance of super() is not just convenience — it’s crucial for:\n",
        "\n",
        "Writing clean, scalable, and maintainable class hierarchies\n",
        "\n",
        "Supporting multiple inheritance correctly\n",
        "\n",
        "Enabling cooperative methods across complex class systems"
      ],
      "metadata": {
        "id": "aFs_V4uLjUqg"
      }
    },
    {
      "cell_type": "markdown",
      "source": [
        "###**21. What is the significance of the __del__ method in Python?**"
      ],
      "metadata": {
        "id": "BtYwPl9BpuAR"
      }
    },
    {
      "cell_type": "markdown",
      "source": [
        "**Ans:-**The __del__ method in Python is a destructor method, which is called when an object is about to be destroyed. It is used to clean up resources, such as closing database connections, releasing memory, or deleting temporary files before an object is removed from memory.\n",
        "\n",
        "Key Features of __del__ Method\n",
        "1. **Called Automatically**-- Executes when an object is about to be garbage collected.\n",
        "2. **Used for Cleanup**-- Frees up memory and ensures proper resource management.\n",
        "3. **Prevents Memory Leaks**-- Helps avoid unnecessary storage consumption.\n",
        "4. **Runs When No References Exist**-- Invoked when an object is no longer referenced."
      ],
      "metadata": {
        "id": "5lYxH4rwjkoF"
      }
    },
    {
      "cell_type": "markdown",
      "source": [
        "###**22. What is the difference between @staticmethod and @classmethod in Python?**"
      ],
      "metadata": {
        "id": "OXepM4FxpyKX"
      }
    },
    {
      "cell_type": "markdown",
      "source": [
        "**Ans:-** Difference between @staticmethod and @classmethod in Python:\n",
        "\n",
        "Both **@staticmethod** and **@classmethod** are decorators used to define methods within a class that operate at the class level rather than the instance level. However, they differ in how they interact with the class:\n",
        "\n",
        "**@staticmethod**\n",
        "\n",
        "**Purpose:** Defines a method that is independent of both the class and its instances. It doesn't receive any implicit arguments like self (for instances) or cls (for the class).\n",
        "Usage: Typically used for utility functions that don't need to access or modify the class or instance state.\n",
        "\n",
        "**@classmethod**\n",
        "\n",
        "**Purpose:** Defines a method that operates on the class itself rather than instances. It receives the class (cls) as the first implicit argument.\n",
        "Usage: Often used for factory methods that create instances of the class or methods that need to access or modify class-level attributes.\n",
        "\n",
        "**@staticmethod** is for methods that are independent of the class and its instances.\n",
        "\n",
        "**@classmethod** is for methods that operate on the class itself."
      ],
      "metadata": {
        "id": "cCPwkJNjkFoL"
      }
    },
    {
      "cell_type": "markdown",
      "source": [
        "###**23. How does polymorphism work in Python with inheritance?**"
      ],
      "metadata": {
        "id": "fbybXt5Dp807"
      }
    },
    {
      "cell_type": "markdown",
      "source": [
        "**Ans:-** **Polymorphism,** meaning **\"many forms,\"** is a powerful tool in object-oriented programming that allows you to treat objects of different classes in a uniform way. In Python, polymorphism is achieved through inheritance and duck typing.\n",
        "\n",
        "**Here's how it works with inheritance:**\n",
        "\n",
        "**Inheritance:** You create a base class with a method that defines a common interface.\n",
        "\n",
        "**Overriding:** Derived classes inherit this method and can override it to provide their own specific implementations.\n",
        "Dynamic Dispatch: When you call the method on an object, Python determines the object's actual type at runtime and calls the appropriate overridden method. This is known as dynamic dispatch or late binding.\n",
        "\n",
        "**Explanation:**\n",
        "\n",
        "Animal is the base class with the speak method.\n",
        "\n",
        "Dog and Cat inherit from Animal and override the speak method.\n",
        "\n",
        "When you call speak on each object, Python dynamically determines the object's type and calls the corresponding overridden method.\n",
        "\n",
        "This demonstrates **polymorphism** in action."
      ],
      "metadata": {
        "id": "wa56x2tzkPw3"
      }
    },
    {
      "cell_type": "markdown",
      "source": [
        "###**24. What is method chaining in Python OOP?**"
      ],
      "metadata": {
        "id": "eQWD7s2NqBlk"
      }
    },
    {
      "cell_type": "markdown",
      "source": [
        "**Ans:-** **Method chaining** is a technique where you call multiple methods on an object in a single, flowing line of code. It makes code more concise and readable by eliminating the need for intermediate variables.\n",
        "\n",
        "**How It Works**\n",
        "\n",
        "To enable method chaining, methods should return the object itself **(self)** as the result. This allows the next method to be called directly on the returned object."
      ],
      "metadata": {
        "id": "zUZ-P94OkZ3t"
      }
    },
    {
      "cell_type": "markdown",
      "source": [
        "###**25. What is the purpose of the __call__ method in Python?**"
      ],
      "metadata": {
        "id": "6bfPSysTqFqf"
      }
    },
    {
      "cell_type": "markdown",
      "source": [
        "**Ans:** The purpose of the __call__ method in Python:\n",
        "\n",
        "The __ call __ method in Python allows you to make an object callable, meaning you can use it like a function. When you include the __ call __ method in a class definition, you can then use instances of that class as if they were functions.\n",
        "\n",
        "**Purpose:**\n",
        "\n",
        "**Making Objects Callable:** The primary purpose is to enable objects to be treated as functions. You can invoke an object using parentheses () as if it were a regular function.\n",
        "\n",
        "**Customizing Object Behavior:** It allows you to define custom actions or logic that should be executed when an object is called. You can implement any functionality within the __ call__ method to tailor the behavior to your specific needs.\n",
        "\n",
        "**Function-like Objects:** By implementing __ call__, you can create objects that act like functions but also maintain internal state or data. This can be useful for creating function wrappers or objects that need to remember previous calls."
      ],
      "metadata": {
        "id": "yQktWTnEkeuU"
      }
    },
    {
      "cell_type": "markdown",
      "source": [
        "# **Practical Questions**"
      ],
      "metadata": {
        "id": "_phs4tTeqMP1"
      }
    },
    {
      "cell_type": "markdown",
      "source": [
        "###**1. Create a parent class Animal with a method speak() that prints a generic message. Create a child class Dog that overrides the speak() method to print \"Bark!\".**"
      ],
      "metadata": {
        "id": "gMrG8sYGqTqD"
      }
    },
    {
      "cell_type": "code",
      "source": [
        "# Parent class\n",
        "class Animal:\n",
        "    def speak(self):\n",
        "        print(\"m bol rha hun.\")\n",
        "\n",
        "# Child class (overriding the speak method)\n",
        "class Dog(Animal):\n",
        "    def speak(self):\n",
        "        print(\"Bark\")\n",
        "\n",
        "# Creating objects\n",
        "generic_animal = Animal()\n",
        "doggy = Dog()\n",
        "\n",
        "# Calling the methods\n",
        "generic_animal.speak()\n",
        "doggy.speak()\n"
      ],
      "metadata": {
        "colab": {
          "base_uri": "https://localhost:8080/"
        },
        "id": "yguRmvt_lM2n",
        "outputId": "5f2351aa-ce81-4c6b-987b-5b762e750040"
      },
      "execution_count": 23,
      "outputs": [
        {
          "output_type": "stream",
          "name": "stdout",
          "text": [
            "m bol rha hun.\n",
            "Bark\n"
          ]
        }
      ]
    },
    {
      "cell_type": "markdown",
      "source": [
        "###**2. Write a program to create an abstract class Shape with a method area(). Derive classes Circle and Rectangle from it and implement the area() method in both.**"
      ],
      "metadata": {
        "id": "BKpifgRcqXBo"
      }
    },
    {
      "cell_type": "code",
      "source": [
        "from abc import ABC, abstractmethod\n",
        "\n",
        "# Abstract class\n",
        "class Shape(ABC):\n",
        "    @abstractmethod\n",
        "    def area(self):\n",
        "        pass  # Abstract method to be implemented by subclasses\n",
        "\n",
        "# Derived class for Circle\n",
        "class Circle(Shape):\n",
        "    def __init__(self, radius):\n",
        "        self.radius = radius\n",
        "\n",
        "    def area(self):\n",
        "        return 3.14 * self.radius ** 2  # Area of circle: pie r²\n",
        "\n",
        "# Derived class for Rectangle\n",
        "class Rectangle(Shape):\n",
        "    def __init__(self, length, width):\n",
        "        self.length = length\n",
        "        self.width = width\n",
        "\n",
        "    def area(self):\n",
        "        return self.length * self.width  # Area of rectangle: l × w\n",
        "\n",
        "# Creating objects\n",
        "circle = Circle(5)\n",
        "rectangle = Rectangle(4, 6)\n",
        "\n",
        "print(f\"Circle Area: {circle.area()}\")\n",
        "print(f\"Rectangle Area: {rectangle.area()}\")"
      ],
      "metadata": {
        "colab": {
          "base_uri": "https://localhost:8080/"
        },
        "id": "lTdNXrRNmGcC",
        "outputId": "70a7ffe3-0325-48cb-bb39-f2517681748d"
      },
      "execution_count": 3,
      "outputs": [
        {
          "output_type": "stream",
          "name": "stdout",
          "text": [
            "Circle Area: 78.5\n",
            "Rectangle Area: 24\n"
          ]
        }
      ]
    },
    {
      "cell_type": "markdown",
      "source": [
        "###**3. Implement a multi-level inheritance scenario where a class Vehicle has an attribute type. Derive a class Carand further derive a class ElectricCar that adds a battery attribute.**"
      ],
      "metadata": {
        "id": "rQT9sCcXqZ9H"
      }
    },
    {
      "cell_type": "code",
      "source": [
        "# Base class\n",
        "class Vehicle:\n",
        "    def __init__(self, type):\n",
        "        self.type = type\n",
        "\n",
        "    def show_type(self):\n",
        "        print(f\"Vehicle Type: {self.type}\")\n",
        "\n",
        "# Derived class\n",
        "class Car(Vehicle):\n",
        "    def __init__(self, type, brand):\n",
        "        super().__init__(type)  # Call parent constructor\n",
        "        self.brand = brand\n",
        "\n",
        "    def show_car_details(self):\n",
        "        print(f\"Car Brand: {self.brand}\")\n",
        "\n",
        "# Further derived class\n",
        "class ElectricCar(Car):\n",
        "    def __init__(self, type, brand, battery_capacity):\n",
        "        super().__init__(type, brand)\n",
        "        self.battery_capacity = battery_capacity\n",
        "\n",
        "    def show_electric_car_details(self):\n",
        "        print(f\"Battery Capacity: {self.battery_capacity} kWh\")\n",
        "\n",
        "# Creating objects\n",
        "vehicle = Vehicle(\"General Vehicle\")\n",
        "car = Car(\"Sedan\", \"Toyota\")\n",
        "electric_car = ElectricCar(\"Electric Sedan\", \"Tesla\", 75)\n",
        "\n",
        "# Calling methods\n",
        "vehicle.show_type()\n",
        "car.show_type()\n",
        "car.show_car_details()\n",
        "electric_car.show_type()\n",
        "electric_car.show_car_details()\n",
        "electric_car.show_electric_car_details()\n"
      ],
      "metadata": {
        "colab": {
          "base_uri": "https://localhost:8080/"
        },
        "id": "U340MQK4oGiU",
        "outputId": "265acd6d-4eac-462d-df2e-056620885e62"
      },
      "execution_count": 25,
      "outputs": [
        {
          "output_type": "stream",
          "name": "stdout",
          "text": [
            "Vehicle Type: General Vehicle\n",
            "Vehicle Type: Sedan\n",
            "Car Brand: Toyota\n",
            "Vehicle Type: Electric Sedan\n",
            "Car Brand: Tesla\n",
            "Battery Capacity: 75 kWh\n"
          ]
        }
      ]
    },
    {
      "cell_type": "markdown",
      "source": [
        "###**4. Demonstrate polymorphism by creating a base class Bird with a method fly(). Create two derived classes Sparrow and Penguin that override the fly() method.**"
      ],
      "metadata": {
        "id": "Al6wdazhqeOS"
      }
    },
    {
      "cell_type": "code",
      "source": [
        "# Base class\n",
        "class Bird:\n",
        "    def fly(self):\n",
        "        print(\"Birds can fly!\")\n",
        "\n",
        "# Derived class 1\n",
        "class Sparrow(Bird):\n",
        "    def fly(self):\n",
        "        print(\"Sparrow flies swiftly in the sky.\")\n",
        "\n",
        "# Derived class 2\n",
        "class Penguin(Bird):\n",
        "    def fly(self):\n",
        "        print(\"Penguins cannot fly, but they swim efficiently!\")\n",
        "\n",
        "# Using Polymorphism\n",
        "birds = [Sparrow(), Penguin()]\n",
        "\n",
        "for bird in birds:\n",
        "    bird.fly()\n"
      ],
      "metadata": {
        "colab": {
          "base_uri": "https://localhost:8080/"
        },
        "id": "sYl9e_Q5oZY6",
        "outputId": "953e177d-e034-4420-9e78-6d7b72ddf0db"
      },
      "execution_count": 5,
      "outputs": [
        {
          "output_type": "stream",
          "name": "stdout",
          "text": [
            "Sparrow flies swiftly in the sky.\n",
            "Penguins cannot fly, but they swim efficiently!\n"
          ]
        }
      ]
    },
    {
      "cell_type": "markdown",
      "source": [
        "###**5. Write a program to demonstrate encapsulation by creating a class BankAccount with private attributes balance and methods to deposit, withdraw, and check balance.**"
      ],
      "metadata": {
        "id": "jXBanW2rqiTt"
      }
    },
    {
      "cell_type": "code",
      "source": [
        "class BankAccount:\n",
        "    def __init__(self, account_holder, initial_balance=0):\n",
        "        self.account_holder = account_holder\n",
        "        self.__balance = initial_balance  # Private attribute\n",
        "\n",
        "    # Method to deposit money\n",
        "    def deposit(self, amount):\n",
        "        if amount > 0:\n",
        "            self.__balance += amount\n",
        "            print(f\"{amount} deposited successfully!\")\n",
        "        else:\n",
        "            print(\"Deposit amount must be positive.\")\n",
        "\n",
        "    # Method to withdraw money\n",
        "    def withdraw(self, amount):\n",
        "        if 0 < amount <= self.__balance:\n",
        "            self.__balance -= amount\n",
        "            print(f\"{amount} withdrawn successfully!\")\n",
        "        else:\n",
        "            print(\"Insufficient balance or invalid amount.\")\n",
        "\n",
        "    # Method to check balance\n",
        "    def check_balance(self):\n",
        "        print(f\"Current balance: {self.__balance}\")\n",
        "\n",
        "# Creating an account object\n",
        "account = BankAccount(\"Chaman\", 5000)\n",
        "\n",
        "# Performing transactions\n",
        "account.deposit(2000)\n",
        "account.withdraw(1500)\n",
        "account.check_balance()\n",
        "\n",
        "# Trying to access private attribute directly\n",
        "# print(account.__balance)  ❌ Will raise an error (Private attribute)\n"
      ],
      "metadata": {
        "colab": {
          "base_uri": "https://localhost:8080/"
        },
        "id": "PHRQ8CwxokHE",
        "outputId": "15d8a51b-891c-4c66-9aaa-1876c088eb9c"
      },
      "execution_count": 24,
      "outputs": [
        {
          "output_type": "stream",
          "name": "stdout",
          "text": [
            "2000 deposited successfully!\n",
            "1500 withdrawn successfully!\n",
            "Current balance: 5500\n"
          ]
        }
      ]
    },
    {
      "cell_type": "markdown",
      "source": [
        "###**6. Demonstrate runtime polymorphism using a method play() in a base class Instrument. Derive classes Guitar and Piano that implement their own version of play().**"
      ],
      "metadata": {
        "id": "LaVf3mdDqpA3"
      }
    },
    {
      "cell_type": "code",
      "source": [
        "# Base class\n",
        "class Instrument:\n",
        "    def play(self):\n",
        "        print(\"Playing an instrument.\")\n",
        "\n",
        "# Derived class 1\n",
        "class Guitar(Instrument):\n",
        "    def play(self):\n",
        "        print(\"Strumming the guitar strings.\")\n",
        "\n",
        "# Derived class 2\n",
        "class Piano(Instrument):\n",
        "    def play(self):\n",
        "        print(\"Pressing the piano keys.\")\n",
        "\n",
        "# Demonstrating runtime polymorphism\n",
        "instruments = [Guitar(), Piano()]\n",
        "\n",
        "for instrument in instruments:\n",
        "    instrument.play()\n"
      ],
      "metadata": {
        "colab": {
          "base_uri": "https://localhost:8080/"
        },
        "id": "tf7WXeUponaM",
        "outputId": "1e317c8b-3ba1-4a84-f054-830e21e17008"
      },
      "execution_count": 7,
      "outputs": [
        {
          "output_type": "stream",
          "name": "stdout",
          "text": [
            "Strumming the guitar strings.\n",
            "Pressing the piano keys.\n"
          ]
        }
      ]
    },
    {
      "cell_type": "markdown",
      "source": [
        "###**7. Create a class MathOperations with a class method add_numbers() to add two numbers and a staticmethod subtract_numbers() to subtract two numbers.**"
      ],
      "metadata": {
        "id": "TdUmEPaeqttZ"
      }
    },
    {
      "cell_type": "code",
      "source": [
        "class MathOperations:\n",
        "    @classmethod\n",
        "    def add_numbers(cls, a, b):\n",
        "        return a + b  # Class method to add numbers\n",
        "\n",
        "    @staticmethod\n",
        "    def subtract_numbers(a, b):\n",
        "        return a - b  # Static method to subtract numbers\n",
        "\n",
        "# Using class method\n",
        "print(MathOperations.add_numbers(10, 5))\n",
        "\n",
        "# Using static method\n",
        "print(MathOperations.subtract_numbers(10, 5))\n"
      ],
      "metadata": {
        "colab": {
          "base_uri": "https://localhost:8080/"
        },
        "id": "R7z0-u0Ho9wO",
        "outputId": "3d77f678-47bc-4b63-c082-8356e9512aa7"
      },
      "execution_count": 8,
      "outputs": [
        {
          "output_type": "stream",
          "name": "stdout",
          "text": [
            "15\n",
            "5\n"
          ]
        }
      ]
    },
    {
      "cell_type": "markdown",
      "source": [
        "###**8. Implement a class Person with a class method to count the total number of persons created.**"
      ],
      "metadata": {
        "id": "p0TH1DKTqzRE"
      }
    },
    {
      "cell_type": "code",
      "source": [
        "class Person:\n",
        "    count = 0  # Class attribute to track the number of persons\n",
        "\n",
        "    def __init__(self, name):\n",
        "        self.name = name\n",
        "        Person.count += 1  # Increment count whenever a new object is created\n",
        "\n",
        "    @classmethod\n",
        "    def get_total_persons(cls):\n",
        "        return cls.count  # Returns the total number of persons created\n",
        "\n",
        "# Creating objects\n",
        "p1 = Person(\"Chaman\")\n",
        "p2 = Person(\"Priya\")\n",
        "p3 = Person(\"Rahul\")\n",
        "\n",
        "# Getting total person count using class method\n",
        "print(f\"Total persons created: {Person.get_total_persons()}\")\n"
      ],
      "metadata": {
        "colab": {
          "base_uri": "https://localhost:8080/"
        },
        "id": "I51-HMPdpGzB",
        "outputId": "4ce04563-6d92-4b9d-c949-e0730354e239"
      },
      "execution_count": 9,
      "outputs": [
        {
          "output_type": "stream",
          "name": "stdout",
          "text": [
            "Total persons created: 3\n"
          ]
        }
      ]
    },
    {
      "cell_type": "markdown",
      "source": [
        "###**9. Write a class Fraction with attributes numerator and denominator. Override the str method to display the fraction as \"numerator/denominator\".**"
      ],
      "metadata": {
        "id": "ZzWlzz8vq2A2"
      }
    },
    {
      "cell_type": "code",
      "source": [
        "class Fraction:\n",
        "    def __init__(self, numerator, denominator):\n",
        "        if denominator == 0:\n",
        "            raise ValueError(\"Denominator cannot be zero.\")  # Prevent division by zero\n",
        "        self.numerator = numerator\n",
        "        self.denominator = denominator\n",
        "\n",
        "    def __str__(self):\n",
        "        return f\"{self.numerator}/{self.denominator}\"  # Overriding str method\n",
        "\n",
        "# Creating fraction objects\n",
        "fraction1 = Fraction(3, 4)\n",
        "fraction2 = Fraction(7, 2)\n",
        "\n",
        "print(fraction1)\n",
        "print(fraction2)"
      ],
      "metadata": {
        "colab": {
          "base_uri": "https://localhost:8080/"
        },
        "id": "OwCvXD47pT0F",
        "outputId": "9e4c896e-ee18-4a35-fb3c-a51f6e2e2318"
      },
      "execution_count": 26,
      "outputs": [
        {
          "output_type": "stream",
          "name": "stdout",
          "text": [
            "3/4\n",
            "7/2\n"
          ]
        }
      ]
    },
    {
      "cell_type": "markdown",
      "source": [
        "###**10. Demonstrate operator overloading by creating a class Vector and overriding the add method to add two vectors.**"
      ],
      "metadata": {
        "id": "JstoHeHfq5mh"
      }
    },
    {
      "cell_type": "code",
      "source": [
        "class Vector:\n",
        "    def __init__(self, x, y):\n",
        "        self.x = x\n",
        "        self.y = y\n",
        "\n",
        "    def __add__(self, other):\n",
        "        return Vector(self.x + other.x, self.y + other.y)  # Overloading '+'\n",
        "\n",
        "    def __str__(self):\n",
        "        return f\"({self.x}, {self.y})\"  # String representation\n",
        "\n",
        "# Creating vector objects\n",
        "v1 = Vector(3, 4)\n",
        "v2 = Vector(1, 2)\n",
        "\n",
        "# Adding vectors using overloaded '+'\n",
        "result = v1 + v2\n",
        "\n",
        "print(f\"Vector 1: {v1}\")\n",
        "print(f\"Vector 2: {v2}\")\n",
        "print(f\"Sum: {result}\")\n"
      ],
      "metadata": {
        "colab": {
          "base_uri": "https://localhost:8080/"
        },
        "id": "7Pg1DAGgpb9U",
        "outputId": "f82426f9-baba-4d4f-b161-bcd15a067ec7"
      },
      "execution_count": 11,
      "outputs": [
        {
          "output_type": "stream",
          "name": "stdout",
          "text": [
            "Vector 1: (3, 4)\n",
            "Vector 2: (1, 2)\n",
            "Sum: (4, 6)\n"
          ]
        }
      ]
    },
    {
      "cell_type": "markdown",
      "source": [
        "###**11. Create a class Person with attributes name and age. Add a method greet() that prints \"Hello, my name is {name} and I am {age} years old.\"**"
      ],
      "metadata": {
        "id": "E06boa0oq9ip"
      }
    },
    {
      "cell_type": "code",
      "source": [
        "class Person:\n",
        "    def __init__(self, name, age):\n",
        "        self.name = name  # Initializing name attribute\n",
        "        self.age = age    # Initializing age attribute\n",
        "\n",
        "    def greet(self):\n",
        "        print(f\"Hello, my name is {self.name} and I am {self.age} years old.\")\n",
        "\n",
        "# Creating a person object\n",
        "person1 = Person(\"Chaman\", 25)\n",
        "person1.greet()\n"
      ],
      "metadata": {
        "colab": {
          "base_uri": "https://localhost:8080/"
        },
        "id": "gXiPACWkppgm",
        "outputId": "6f8702e6-6fff-4c14-f3a1-d70e263c0b6a"
      },
      "execution_count": 12,
      "outputs": [
        {
          "output_type": "stream",
          "name": "stdout",
          "text": [
            "Hello, my name is Chaman and I am 25 years old.\n"
          ]
        }
      ]
    },
    {
      "cell_type": "markdown",
      "source": [
        "###**12. Implement a class Student with attributes name and grades. Create a method average_grade() to compute the average of the grades.**"
      ],
      "metadata": {
        "id": "CrxRO6zCrAYp"
      }
    },
    {
      "cell_type": "code",
      "source": [
        "class Student:\n",
        "    def __init__(self, name, grades):\n",
        "        self.name = name      # Student's name\n",
        "        self.grades = grades  # List of grades\n",
        "\n",
        "    def average_grade(self):\n",
        "        if self.grades:  # Ensure there are grades to compute\n",
        "            return sum(self.grades) / len(self.grades)\n",
        "        else:\n",
        "            return 0  # Return 0 if no grades are provided\n",
        "\n",
        "# Creating a student object\n",
        "student1 = Student(\"Chaman\", [85, 90, 78, 92])\n",
        "\n",
        "# Computing and displaying the average grade\n",
        "print(f\"{student1.name}'s average grade: {student1.average_grade():.2f}\")\n",
        "\n"
      ],
      "metadata": {
        "colab": {
          "base_uri": "https://localhost:8080/"
        },
        "id": "ocodo4wsp68g",
        "outputId": "a11c4be3-7692-48b3-ce7c-d05951b46252"
      },
      "execution_count": 13,
      "outputs": [
        {
          "output_type": "stream",
          "name": "stdout",
          "text": [
            "Chaman's average grade: 86.25\n"
          ]
        }
      ]
    },
    {
      "cell_type": "markdown",
      "source": [
        "###**13. Create a class Rectangle with methods set_dimensions() to set the dimensions and area() to calculate the area.**"
      ],
      "metadata": {
        "id": "Dv7yCCcWrFK4"
      }
    },
    {
      "cell_type": "code",
      "source": [
        "class Rectangle:\n",
        "    def __init__(self, length=0, width=0):\n",
        "        self.length = length\n",
        "        self.width = width\n",
        "\n",
        "    def set_dimensions(self, length, width):\n",
        "        self.length = length\n",
        "        self.width = width\n",
        "\n",
        "    def area(self):\n",
        "        return self.length * self.width\n",
        "\n",
        "# Creating a rectangle object\n",
        "rect = Rectangle()\n",
        "rect.set_dimensions(5, 3)  # Setting dimensions\n",
        "\n",
        "print(f\"Rectangle Area: {rect.area()}\")\n"
      ],
      "metadata": {
        "colab": {
          "base_uri": "https://localhost:8080/"
        },
        "id": "QwkpkMbSqH5L",
        "outputId": "2a2c9ffe-4f57-427f-8a9a-f395c47c2a02"
      },
      "execution_count": 14,
      "outputs": [
        {
          "output_type": "stream",
          "name": "stdout",
          "text": [
            "Rectangle Area: 15\n"
          ]
        }
      ]
    },
    {
      "cell_type": "markdown",
      "source": [
        "###**14. Create a class Employee with a method calculate_salary() that computes the salary based on hours worked and hourly rate. Create a derived class Manager that adds a bonus to the salary.**"
      ],
      "metadata": {
        "id": "rIE2Lzf8rH40"
      }
    },
    {
      "cell_type": "code",
      "source": [
        "# Base class\n",
        "class Employee:\n",
        "    def __init__(self, name, hours_worked, hourly_rate):\n",
        "        self.name = name\n",
        "        self.hours_worked = hours_worked\n",
        "        self.hourly_rate = hourly_rate\n",
        "\n",
        "    def calculate_salary(self):\n",
        "        return self.hours_worked * self.hourly_rate  # Basic salary computation\n",
        "\n",
        "# Derived class\n",
        "class Manager(Employee):\n",
        "    def __init__(self, name, hours_worked, hourly_rate, bonus):\n",
        "        super().__init__(name, hours_worked, hourly_rate)  # Inherit from Employee\n",
        "        self.bonus = bonus  # Additional bonus attribute\n",
        "\n",
        "    def calculate_salary(self):\n",
        "        return super().calculate_salary() + self.bonus  # Include bonus in salary\n",
        "\n",
        "# Creating Employee and Manager objects\n",
        "emp = Employee(\"Vikram\", 40, 20)\n",
        "mgr = Manager(\"Chaman\", 40, 30, 500)\n",
        "\n",
        "# Displaying salaries\n",
        "print(f\"{emp.name}'s Salary: {emp.calculate_salary()}\")\n",
        "print(f\"{mgr.name}'s Salary: {mgr.calculate_salary()}\")\n"
      ],
      "metadata": {
        "colab": {
          "base_uri": "https://localhost:8080/"
        },
        "id": "uOoPdeddqk5l",
        "outputId": "04839e20-7f73-4155-c26f-f79cb0c41161"
      },
      "execution_count": 27,
      "outputs": [
        {
          "output_type": "stream",
          "name": "stdout",
          "text": [
            "Vikram's Salary: 800\n",
            "Chaman's Salary: 1700\n"
          ]
        }
      ]
    },
    {
      "cell_type": "markdown",
      "source": [
        "###**15. Create a class Product with attributes name, price, and quantity. Implement a method total_price() that calculates the total price of the product.**"
      ],
      "metadata": {
        "id": "5c4jxEJYrK6S"
      }
    },
    {
      "cell_type": "code",
      "source": [
        "class Product:\n",
        "    def __init__(self, name, price, quantity):\n",
        "        self.name = name\n",
        "        self.price = price\n",
        "        self.quantity = quantity\n",
        "\n",
        "    def total_price(self):\n",
        "        return self.price * self.quantity  # Calculates total price\n",
        "\n",
        "# Creating product objects\n",
        "product1 = Product(\"Laptop\", 50000, 2)\n",
        "product2 = Product(\"Phone\", 25000, 3)\n",
        "\n",
        "# Displaying total price of products\n",
        "print(f\"{product1.name} Total Price: {product1.total_price()}\")\n",
        "print(f\"{product2.name} Total Price: {product2.total_price()}\")\n"
      ],
      "metadata": {
        "colab": {
          "base_uri": "https://localhost:8080/"
        },
        "id": "MNkDhZ1hq1Gl",
        "outputId": "96419a14-4e9e-4c37-efb6-1e958bf1bc77"
      },
      "execution_count": 28,
      "outputs": [
        {
          "output_type": "stream",
          "name": "stdout",
          "text": [
            "Laptop Total Price: 100000\n",
            "Phone Total Price: 75000\n"
          ]
        }
      ]
    },
    {
      "cell_type": "markdown",
      "source": [
        "###**16. Create a class Animal with an abstract method sound(). Create two derived classes Cow and Sheep that implement the sound() method.**"
      ],
      "metadata": {
        "id": "PTfZTjbzrQsm"
      }
    },
    {
      "cell_type": "code",
      "source": [
        "from abc import ABC, abstractmethod\n",
        "\n",
        "# Abstract class\n",
        "class Animal(ABC):\n",
        "    @abstractmethod\n",
        "    def sound(self):\n",
        "        pass  # Abstract method to be implemented by subclasses\n",
        "\n",
        "# Derived class: Cow\n",
        "class Cow(Animal):\n",
        "    def sound(self):\n",
        "        return \"Moo!\"\n",
        "\n",
        "# Derived class: Sheep\n",
        "class Sheep(Animal):\n",
        "    def sound(self):\n",
        "        return \"Baa!\"\n",
        "\n",
        "# Creating objects\n",
        "cow = Cow()\n",
        "sheep = Sheep()\n",
        "\n",
        "# Calling overridden methods\n",
        "print(f\"Cow: {cow.sound()}\")\n",
        "print(f\"Sheep: {sheep.sound()}\")\n"
      ],
      "metadata": {
        "colab": {
          "base_uri": "https://localhost:8080/"
        },
        "id": "hilpieygrDQL",
        "outputId": "23c2e490-bb1d-42a6-bd0a-493117deae95"
      },
      "execution_count": 29,
      "outputs": [
        {
          "output_type": "stream",
          "name": "stdout",
          "text": [
            "Cow: Moo!\n",
            "Sheep: Baa!\n"
          ]
        }
      ]
    },
    {
      "cell_type": "markdown",
      "source": [
        "###**17. Create a class Book with attributes title, author, and year_published. Add a method get_book_info() that returns a formatted string with the book's details.**"
      ],
      "metadata": {
        "id": "syt2TPoerTQ8"
      }
    },
    {
      "cell_type": "code",
      "source": [
        "class Book:\n",
        "    def __init__(self, title, author, year_published):\n",
        "        self.title = title\n",
        "        self.author = author\n",
        "        self.year_published = year_published\n",
        "\n",
        "    def get_book_info(self):\n",
        "        return f\"'{self.title}' by {self.author}, published in {self.year_published}.\"\n",
        "\n",
        "# Creating a book object\n",
        "book1 = Book(\"To Kill a Mockingbird\", \"Harper Lee\", 1960)\n",
        "\n",
        "# Displaying book information\n",
        "print(book1.get_book_info())\n",
        "\n"
      ],
      "metadata": {
        "colab": {
          "base_uri": "https://localhost:8080/"
        },
        "id": "U7R_lemBrMR-",
        "outputId": "32138cbf-8d52-4828-887d-aae8555e4e9c"
      },
      "execution_count": 30,
      "outputs": [
        {
          "output_type": "stream",
          "name": "stdout",
          "text": [
            "'To Kill a Mockingbird' by Harper Lee, published in 1960.\n"
          ]
        }
      ]
    },
    {
      "cell_type": "markdown",
      "source": [
        "###**18. Create a class House with attributes address and price. Create a derived class Mansion that adds an attribute number_of_rooms.**"
      ],
      "metadata": {
        "id": "A7-GIXlcrWAr"
      }
    },
    {
      "cell_type": "code",
      "source": [
        "# Base class\n",
        "class House:\n",
        "    def __init__(self, address, price):\n",
        "        self.address = address\n",
        "        self.price = price\n",
        "\n",
        "    def show_details(self):\n",
        "        print(f\"House Address: {self.address}\")\n",
        "        print(f\"Price: {self.price}\")\n",
        "\n",
        "# Derived class\n",
        "class Mansion(House):\n",
        "    def __init__(self, address, price, number_of_rooms):\n",
        "        super().__init__(address, price)  # Calling the parent class constructor\n",
        "        self.number_of_rooms = number_of_rooms\n",
        "\n",
        "    def show_details(self):\n",
        "        super().show_details()  # Calling the parent class method\n",
        "        print(f\"Number of Rooms: {self.number_of_rooms}\")\n",
        "\n",
        "# Creating objects\n",
        "house = House(\"123 Main Street, New Delhi\", 5000000)\n",
        "mansion = Mansion(\"Luxury Estate, Mumbai\", 20000000, 15)\n",
        "\n",
        "# Displaying details\n",
        "print(\"\\nHouse Details:\")\n",
        "house.show_details()\n",
        "\n",
        "print(\"\\nMansion Details:\")\n",
        "mansion.show_details()\n"
      ],
      "metadata": {
        "colab": {
          "base_uri": "https://localhost:8080/"
        },
        "id": "TMiTvY1_rSdF",
        "outputId": "622ac4de-1683-4520-c93b-09b92b976e80"
      },
      "execution_count": 31,
      "outputs": [
        {
          "output_type": "stream",
          "name": "stdout",
          "text": [
            "\n",
            "House Details:\n",
            "House Address: 123 Main Street, New Delhi\n",
            "Price: 5000000\n",
            "\n",
            "Mansion Details:\n",
            "House Address: Luxury Estate, Mumbai\n",
            "Price: 20000000\n",
            "Number of Rooms: 15\n"
          ]
        }
      ]
    },
    {
      "cell_type": "code",
      "source": [],
      "metadata": {
        "id": "ge46uXLGrYUx"
      },
      "execution_count": null,
      "outputs": []
    }
  ]
}